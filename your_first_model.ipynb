{
 "cells": [
  {
   "cell_type": "markdown",
   "metadata": {},
   "source": [
    "# Загрузка Pandas и очистка данных"
   ]
  },
  {
   "cell_type": "code",
   "execution_count": 1,
   "metadata": {},
   "outputs": [],
   "source": [
    "import pandas as pd\n",
    "import numpy as np\n",
    "import re\n",
    "from datetime import datetime"
   ]
  },
  {
   "cell_type": "code",
   "execution_count": 2,
   "metadata": {},
   "outputs": [
    {
     "data": {
      "text/html": [
       "<div>\n",
       "<style scoped>\n",
       "    .dataframe tbody tr th:only-of-type {\n",
       "        vertical-align: middle;\n",
       "    }\n",
       "\n",
       "    .dataframe tbody tr th {\n",
       "        vertical-align: top;\n",
       "    }\n",
       "\n",
       "    .dataframe thead th {\n",
       "        text-align: right;\n",
       "    }\n",
       "</style>\n",
       "<table border=\"1\" class=\"dataframe\">\n",
       "  <thead>\n",
       "    <tr style=\"text-align: right;\">\n",
       "      <th></th>\n",
       "      <th>Restaurant_id</th>\n",
       "      <th>City</th>\n",
       "      <th>Cuisine Style</th>\n",
       "      <th>Ranking</th>\n",
       "      <th>Rating</th>\n",
       "      <th>Price Range</th>\n",
       "      <th>Number of Reviews</th>\n",
       "      <th>Reviews</th>\n",
       "      <th>URL_TA</th>\n",
       "      <th>ID_TA</th>\n",
       "    </tr>\n",
       "  </thead>\n",
       "  <tbody>\n",
       "    <tr>\n",
       "      <th>0</th>\n",
       "      <td>id_5569</td>\n",
       "      <td>Paris</td>\n",
       "      <td>['European', 'French', 'International']</td>\n",
       "      <td>5570.0</td>\n",
       "      <td>3.5</td>\n",
       "      <td>$$ - $$$</td>\n",
       "      <td>194.0</td>\n",
       "      <td>[['Good food at your doorstep', 'A good hotel ...</td>\n",
       "      <td>/Restaurant_Review-g187147-d1912643-Reviews-R_...</td>\n",
       "      <td>d1912643</td>\n",
       "    </tr>\n",
       "    <tr>\n",
       "      <th>1</th>\n",
       "      <td>id_1535</td>\n",
       "      <td>Stockholm</td>\n",
       "      <td>NaN</td>\n",
       "      <td>1537.0</td>\n",
       "      <td>4.0</td>\n",
       "      <td>NaN</td>\n",
       "      <td>10.0</td>\n",
       "      <td>[['Unique cuisine', 'Delicious Nepalese food']...</td>\n",
       "      <td>/Restaurant_Review-g189852-d7992032-Reviews-Bu...</td>\n",
       "      <td>d7992032</td>\n",
       "    </tr>\n",
       "    <tr>\n",
       "      <th>2</th>\n",
       "      <td>id_352</td>\n",
       "      <td>London</td>\n",
       "      <td>['Japanese', 'Sushi', 'Asian', 'Grill', 'Veget...</td>\n",
       "      <td>353.0</td>\n",
       "      <td>4.5</td>\n",
       "      <td>$$$$</td>\n",
       "      <td>688.0</td>\n",
       "      <td>[['Catch up with friends', 'Not exceptional'],...</td>\n",
       "      <td>/Restaurant_Review-g186338-d8632781-Reviews-RO...</td>\n",
       "      <td>d8632781</td>\n",
       "    </tr>\n",
       "    <tr>\n",
       "      <th>3</th>\n",
       "      <td>id_3456</td>\n",
       "      <td>Berlin</td>\n",
       "      <td>NaN</td>\n",
       "      <td>3458.0</td>\n",
       "      <td>5.0</td>\n",
       "      <td>NaN</td>\n",
       "      <td>3.0</td>\n",
       "      <td>[[], []]</td>\n",
       "      <td>/Restaurant_Review-g187323-d1358776-Reviews-Es...</td>\n",
       "      <td>d1358776</td>\n",
       "    </tr>\n",
       "    <tr>\n",
       "      <th>4</th>\n",
       "      <td>id_615</td>\n",
       "      <td>Munich</td>\n",
       "      <td>['German', 'Central European', 'Vegetarian Fri...</td>\n",
       "      <td>621.0</td>\n",
       "      <td>4.0</td>\n",
       "      <td>$$ - $$$</td>\n",
       "      <td>84.0</td>\n",
       "      <td>[['Best place to try a Bavarian food', 'Nice b...</td>\n",
       "      <td>/Restaurant_Review-g187309-d6864963-Reviews-Au...</td>\n",
       "      <td>d6864963</td>\n",
       "    </tr>\n",
       "  </tbody>\n",
       "</table>\n",
       "</div>"
      ],
      "text/plain": [
       "  Restaurant_id       City                                      Cuisine Style  \\\n",
       "0       id_5569      Paris            ['European', 'French', 'International']   \n",
       "1       id_1535  Stockholm                                                NaN   \n",
       "2        id_352     London  ['Japanese', 'Sushi', 'Asian', 'Grill', 'Veget...   \n",
       "3       id_3456     Berlin                                                NaN   \n",
       "4        id_615     Munich  ['German', 'Central European', 'Vegetarian Fri...   \n",
       "\n",
       "   Ranking  Rating Price Range  Number of Reviews  \\\n",
       "0   5570.0     3.5    $$ - $$$              194.0   \n",
       "1   1537.0     4.0         NaN               10.0   \n",
       "2    353.0     4.5        $$$$              688.0   \n",
       "3   3458.0     5.0         NaN                3.0   \n",
       "4    621.0     4.0    $$ - $$$               84.0   \n",
       "\n",
       "                                             Reviews  \\\n",
       "0  [['Good food at your doorstep', 'A good hotel ...   \n",
       "1  [['Unique cuisine', 'Delicious Nepalese food']...   \n",
       "2  [['Catch up with friends', 'Not exceptional'],...   \n",
       "3                                           [[], []]   \n",
       "4  [['Best place to try a Bavarian food', 'Nice b...   \n",
       "\n",
       "                                              URL_TA     ID_TA  \n",
       "0  /Restaurant_Review-g187147-d1912643-Reviews-R_...  d1912643  \n",
       "1  /Restaurant_Review-g189852-d7992032-Reviews-Bu...  d7992032  \n",
       "2  /Restaurant_Review-g186338-d8632781-Reviews-RO...  d8632781  \n",
       "3  /Restaurant_Review-g187323-d1358776-Reviews-Es...  d1358776  \n",
       "4  /Restaurant_Review-g187309-d6864963-Reviews-Au...  d6864963  "
      ]
     },
     "execution_count": 2,
     "metadata": {},
     "output_type": "execute_result"
    }
   ],
   "source": [
    "df = pd.read_csv('main_task.csv')\n",
    "df.head()"
   ]
  },
  {
   "cell_type": "code",
   "execution_count": 3,
   "metadata": {},
   "outputs": [],
   "source": [
    "# Ваш код по очистке данных и генерации новых признаков\n",
    "# При необходимости добавьте ячейки\n",
    "\n",
    "# Для начала приведем стобец с идентификатором ресторана в числовой формат и подсчитаем количество ресторанов\n",
    "# с одинаковым id\n",
    "number_rest = df.groupby(['Restaurant_id'])['Ranking'].count()\n",
    "# Добавляем в датасет колонку c общим кол-вом ресторанов c одинаковым рeйтингом:\n",
    "df['Number_of_id'] = df.apply(\n",
    "    lambda row: number_rest[row.Restaurant_id], axis=1)\n",
    "\n",
    "# преобразование признака в категориальные переменные переменные\n",
    "df['Price_range_isNAN'] = pd.isna(df['Price Range']).astype('uint8')\n",
    "\n",
    "\n",
    "def price_range(rang):\n",
    "    if rang == '$':\n",
    "        return round(1)\n",
    "    elif rang == '$$ - $$$':\n",
    "        return round(2)\n",
    "    elif rang == '$$$$':\n",
    "        return round(3)\n",
    "    else:\n",
    "        return rang\n",
    "\n",
    "\n",
    "df['Price Range'] = df['Price Range'].apply(lambda x: price_range(x))\n",
    "\n",
    "df['Price Range'].fillna(2, inplace=True)\n",
    "\n",
    "\n",
    "# Cuisune Style\n",
    "# Отсутствующие значения типа кухонь заменили на Regular, и в количетве представленныъ кухонь считаем равными 1,\n",
    "# так как минимум одна кухня должна быть представлена, либо некоторые виды являются сочетанием нескольких кухонь\n",
    "df['Cuisine Style'].fillna('Regular', inplace=True)\n",
    "\n",
    "# Преобразуем строковые значения из Cuisine Style в списки:\n",
    "df['cuisine_list'] = df['Cuisine Style'].str.findall(\n",
    "    r'\\w+\\s*\\w*\\s*\\w*\\s*\\w*\\s*\\w*')\n",
    "df['cuisine_len'] = df['cuisine_list'].apply(lambda x: len(x))\n",
    "df.drop(['Cuisine Style'], inplace=True, axis=1)\n",
    "df.drop(['cuisine_list'], inplace=True, axis=1)\n",
    "\n",
    "# Так как столбцы URL_TA и ID_TA не несут никакой практической информации было принято решение их удалить\n",
    "df.drop(['URL_TA'], inplace=True, axis=1)\n",
    "df.drop(['ID_TA'], inplace=True, axis=1)\n",
    "\n",
    "# Пропуски в признаке Number of Reviews заполним средним количеством отзывов по городам\n",
    "for city in df['City'].unique():\n",
    "    df.loc[df.City == city, ['Number of Reviews']] = df['Number of Reviews'].loc[df.City == city].\\\n",
    "        fillna(round(df['Number of Reviews'].loc[df.City == city].mean(), 2))"
   ]
  },
  {
   "cell_type": "code",
   "execution_count": 4,
   "metadata": {},
   "outputs": [],
   "source": [
    "# Переведем все даты из отзывов в формат datetime и положим в отдельный признак\n",
    "\n",
    "def review_to_date(review):\n",
    "    # Задаем паттерн для даты\n",
    "    pattern = re.compile('\\'\\d+\\/\\d+\\/\\d+\\'?')\n",
    "    # Записываем даты в переменную\n",
    "    dat = pattern.findall(review)\n",
    "    # Переводим даты в формат datetime\n",
    "    if len(dat) >= 1:\n",
    "        datetime_list = []\n",
    "        for date in dat:\n",
    "            date = date[1:-1]\n",
    "            dt = datetime.strptime(date, '%m/%d/%Y')\n",
    "            datetime_list.append(dt)\n",
    "        return datetime_list\n",
    "\n",
    "\n",
    "df['review_dates'] = df['Reviews'].apply(lambda x: review_to_date(x))\n",
    "\n",
    "# Находим разницу в днях между датами каждого второго отзыва с предыдущим, \n",
    "#если в датасете был только 1 отзыв то возвращаем 0\n",
    "\n",
    "def tworeview_day(date):\n",
    "    if date is not None:\n",
    "        if len(date)>1:\n",
    "            delta = date[0] - date[1]\n",
    "            return abs(round(delta.days))\n",
    "        else:\n",
    "            return 0\n",
    "\n",
    "df['tworeview_day'] = df['review_dates'].apply(lambda x: tworeview_day(x))\n",
    "df.drop(['Reviews', 'review_dates'], inplace=True, axis=1)\n",
    "\n",
    "# пропуски заполняем нулями, так как нет объективных данных о разнице дней\n",
    "df['tworeview_day'] = df['tworeview_day'].fillna(0)"
   ]
  },
  {
   "cell_type": "markdown",
   "metadata": {},
   "source": [
    "Так в стоблце city нет пропусков, нет ошибок в названии городов и представлено всего 31 город, то было принято решение признак city преобразовать в dummy-переменные"
   ]
  },
  {
   "cell_type": "code",
   "execution_count": 5,
   "metadata": {},
   "outputs": [],
   "source": [
    "city_dummy = pd.get_dummies(df.City)\n",
    "\n",
    "df = pd.concat([df, city_dummy], axis=1)      \n",
    "df.drop(['City'], inplace=True, axis=1)"
   ]
  },
  {
   "cell_type": "code",
   "execution_count": 6,
   "metadata": {},
   "outputs": [
    {
     "name": "stdout",
     "output_type": "stream",
     "text": [
      "<class 'pandas.core.frame.DataFrame'>\n",
      "RangeIndex: 40000 entries, 0 to 39999\n",
      "Data columns (total 40 columns):\n",
      " #   Column             Non-Null Count  Dtype  \n",
      "---  ------             --------------  -----  \n",
      " 0   Restaurant_id      40000 non-null  object \n",
      " 1   Ranking            40000 non-null  float64\n",
      " 2   Rating             40000 non-null  float64\n",
      " 3   Price Range        40000 non-null  float64\n",
      " 4   Number of Reviews  40000 non-null  float64\n",
      " 5   Number_of_id       40000 non-null  int64  \n",
      " 6   Price_range_isNAN  40000 non-null  uint8  \n",
      " 7   cuisine_len        40000 non-null  int64  \n",
      " 8   tworeview_day      40000 non-null  float64\n",
      " 9   Amsterdam          40000 non-null  uint8  \n",
      " 10  Athens             40000 non-null  uint8  \n",
      " 11  Barcelona          40000 non-null  uint8  \n",
      " 12  Berlin             40000 non-null  uint8  \n",
      " 13  Bratislava         40000 non-null  uint8  \n",
      " 14  Brussels           40000 non-null  uint8  \n",
      " 15  Budapest           40000 non-null  uint8  \n",
      " 16  Copenhagen         40000 non-null  uint8  \n",
      " 17  Dublin             40000 non-null  uint8  \n",
      " 18  Edinburgh          40000 non-null  uint8  \n",
      " 19  Geneva             40000 non-null  uint8  \n",
      " 20  Hamburg            40000 non-null  uint8  \n",
      " 21  Helsinki           40000 non-null  uint8  \n",
      " 22  Krakow             40000 non-null  uint8  \n",
      " 23  Lisbon             40000 non-null  uint8  \n",
      " 24  Ljubljana          40000 non-null  uint8  \n",
      " 25  London             40000 non-null  uint8  \n",
      " 26  Luxembourg         40000 non-null  uint8  \n",
      " 27  Lyon               40000 non-null  uint8  \n",
      " 28  Madrid             40000 non-null  uint8  \n",
      " 29  Milan              40000 non-null  uint8  \n",
      " 30  Munich             40000 non-null  uint8  \n",
      " 31  Oporto             40000 non-null  uint8  \n",
      " 32  Oslo               40000 non-null  uint8  \n",
      " 33  Paris              40000 non-null  uint8  \n",
      " 34  Prague             40000 non-null  uint8  \n",
      " 35  Rome               40000 non-null  uint8  \n",
      " 36  Stockholm          40000 non-null  uint8  \n",
      " 37  Vienna             40000 non-null  uint8  \n",
      " 38  Warsaw             40000 non-null  uint8  \n",
      " 39  Zurich             40000 non-null  uint8  \n",
      "dtypes: float64(5), int64(2), object(1), uint8(32)\n",
      "memory usage: 3.7+ MB\n"
     ]
    }
   ],
   "source": [
    "df.info()"
   ]
  },
  {
   "cell_type": "markdown",
   "metadata": {},
   "source": [
    "# Разбиваем датафрейм на части, необходимые для обучения и тестирования модели"
   ]
  },
  {
   "cell_type": "code",
   "execution_count": 7,
   "metadata": {},
   "outputs": [],
   "source": [
    "# Х - данные с информацией о ресторанах, у - целевая переменная (рейтинги ресторанов)\n",
    "X = df.drop(['Restaurant_id', 'Rating'], axis = 1)\n",
    "y = df['Rating']"
   ]
  },
  {
   "cell_type": "code",
   "execution_count": 8,
   "metadata": {},
   "outputs": [],
   "source": [
    "# Загружаем специальный инструмент для разбивки:\n",
    "from sklearn.model_selection import train_test_split"
   ]
  },
  {
   "cell_type": "code",
   "execution_count": 9,
   "metadata": {},
   "outputs": [],
   "source": [
    "# Наборы данных с меткой \"train\" будут использоваться для обучения модели, \"test\" - для тестирования.\n",
    "# Для тестирования мы будем использовать 25% от исходного датасета.\n",
    "X_train, X_test, y_train, y_test = train_test_split(X, y, test_size=0.25)"
   ]
  },
  {
   "cell_type": "markdown",
   "metadata": {},
   "source": [
    "# Создаём, обучаем и тестируем модель"
   ]
  },
  {
   "cell_type": "code",
   "execution_count": 10,
   "metadata": {},
   "outputs": [],
   "source": [
    "# Импортируем необходимые библиотеки:\n",
    "from sklearn.ensemble import RandomForestRegressor # инструмент для создания и обучения модели\n",
    "from sklearn import metrics # инструменты для оценки точности модели"
   ]
  },
  {
   "cell_type": "code",
   "execution_count": 11,
   "metadata": {},
   "outputs": [],
   "source": [
    "# Создаём модель\n",
    "regr = RandomForestRegressor(n_estimators=100)\n",
    "\n",
    "# Обучаем модель на тестовом наборе данных\n",
    "regr.fit(X_train, y_train)\n",
    "\n",
    "# Используем обученную модель для предсказания рейтинга ресторанов в тестовой выборке.\n",
    "# Предсказанные значения записываем в переменную y_pred\n",
    "y_pred = regr.predict(X_test)"
   ]
  },
  {
   "cell_type": "code",
   "execution_count": 12,
   "metadata": {},
   "outputs": [
    {
     "name": "stdout",
     "output_type": "stream",
     "text": [
      "MAE: 0.220019\n"
     ]
    }
   ],
   "source": [
    "# Сравниваем предсказанные значения (y_pred) с реальными (y_test), и смотрим насколько они в среднем отличаются\n",
    "# Метрика называется Mean Absolute Error (MAE) и показывает среднее отклонение предсказанных значений от фактических.\n",
    "print('MAE:', metrics.mean_absolute_error(y_test, y_pred))"
   ]
  }
 ],
 "metadata": {
  "kernelspec": {
   "display_name": "Python 3",
   "language": "python",
   "name": "python3"
  },
  "language_info": {
   "codemirror_mode": {
    "name": "ipython",
    "version": 3
   },
   "file_extension": ".py",
   "mimetype": "text/x-python",
   "name": "python",
   "nbconvert_exporter": "python",
   "pygments_lexer": "ipython3",
   "version": "3.8.5"
  }
 },
 "nbformat": 4,
 "nbformat_minor": 2
}
